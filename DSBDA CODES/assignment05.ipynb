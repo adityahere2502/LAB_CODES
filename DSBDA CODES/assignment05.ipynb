{
 "cells": [
  {
   "cell_type": "code",
   "execution_count": 1,
   "id": "c6550d8b-f789-49a0-8190-19c2ba7f3fad",
   "metadata": {},
   "outputs": [],
   "source": [
    "import pandas as pd\n",
    "import numpy as np\n",
    "import seaborn as sn"
   ]
  },
  {
   "cell_type": "code",
   "execution_count": 2,
   "id": "68c4134a-c63b-47f3-ab30-35d4dfa8a584",
   "metadata": {},
   "outputs": [],
   "source": [
    "df=pd.read_csv(\"Social_Network_Ads.csv\")"
   ]
  },
  {
   "cell_type": "code",
   "execution_count": 3,
   "id": "e4273207-24f3-4ddb-a79c-7cb496c7cd68",
   "metadata": {},
   "outputs": [
    {
     "data": {
      "text/html": [
       "<div>\n",
       "<style scoped>\n",
       "    .dataframe tbody tr th:only-of-type {\n",
       "        vertical-align: middle;\n",
       "    }\n",
       "\n",
       "    .dataframe tbody tr th {\n",
       "        vertical-align: top;\n",
       "    }\n",
       "\n",
       "    .dataframe thead th {\n",
       "        text-align: right;\n",
       "    }\n",
       "</style>\n",
       "<table border=\"1\" class=\"dataframe\">\n",
       "  <thead>\n",
       "    <tr style=\"text-align: right;\">\n",
       "      <th></th>\n",
       "      <th>User ID</th>\n",
       "      <th>Gender</th>\n",
       "      <th>Age</th>\n",
       "      <th>EstimatedSalary</th>\n",
       "      <th>Purchased</th>\n",
       "    </tr>\n",
       "  </thead>\n",
       "  <tbody>\n",
       "    <tr>\n",
       "      <th>0</th>\n",
       "      <td>15624510</td>\n",
       "      <td>Male</td>\n",
       "      <td>19</td>\n",
       "      <td>19000</td>\n",
       "      <td>0</td>\n",
       "    </tr>\n",
       "    <tr>\n",
       "      <th>1</th>\n",
       "      <td>15810944</td>\n",
       "      <td>Male</td>\n",
       "      <td>35</td>\n",
       "      <td>20000</td>\n",
       "      <td>0</td>\n",
       "    </tr>\n",
       "    <tr>\n",
       "      <th>2</th>\n",
       "      <td>15668575</td>\n",
       "      <td>Female</td>\n",
       "      <td>26</td>\n",
       "      <td>43000</td>\n",
       "      <td>0</td>\n",
       "    </tr>\n",
       "    <tr>\n",
       "      <th>3</th>\n",
       "      <td>15603246</td>\n",
       "      <td>Female</td>\n",
       "      <td>27</td>\n",
       "      <td>57000</td>\n",
       "      <td>0</td>\n",
       "    </tr>\n",
       "    <tr>\n",
       "      <th>4</th>\n",
       "      <td>15804002</td>\n",
       "      <td>Male</td>\n",
       "      <td>19</td>\n",
       "      <td>76000</td>\n",
       "      <td>0</td>\n",
       "    </tr>\n",
       "  </tbody>\n",
       "</table>\n",
       "</div>"
      ],
      "text/plain": [
       "    User ID  Gender  Age  EstimatedSalary  Purchased\n",
       "0  15624510    Male   19            19000          0\n",
       "1  15810944    Male   35            20000          0\n",
       "2  15668575  Female   26            43000          0\n",
       "3  15603246  Female   27            57000          0\n",
       "4  15804002    Male   19            76000          0"
      ]
     },
     "execution_count": 3,
     "metadata": {},
     "output_type": "execute_result"
    }
   ],
   "source": [
    "df.head()"
   ]
  },
  {
   "cell_type": "code",
   "execution_count": 4,
   "id": "a2e9c6e7-763e-4a49-8103-843874df9fb3",
   "metadata": {},
   "outputs": [
    {
     "name": "stdout",
     "output_type": "stream",
     "text": [
      "<class 'pandas.core.frame.DataFrame'>\n",
      "RangeIndex: 400 entries, 0 to 399\n",
      "Data columns (total 5 columns):\n",
      " #   Column           Non-Null Count  Dtype \n",
      "---  ------           --------------  ----- \n",
      " 0   User ID          400 non-null    int64 \n",
      " 1   Gender           400 non-null    object\n",
      " 2   Age              400 non-null    int64 \n",
      " 3   EstimatedSalary  400 non-null    int64 \n",
      " 4   Purchased        400 non-null    int64 \n",
      "dtypes: int64(4), object(1)\n",
      "memory usage: 15.8+ KB\n"
     ]
    }
   ],
   "source": [
    "df.info()"
   ]
  },
  {
   "cell_type": "code",
   "execution_count": 5,
   "id": "3b6b90eb-59c6-4502-8ec6-28fae7b5e9a9",
   "metadata": {},
   "outputs": [
    {
     "data": {
      "text/plain": [
       "(400, 5)"
      ]
     },
     "execution_count": 5,
     "metadata": {},
     "output_type": "execute_result"
    }
   ],
   "source": [
    "df.shape"
   ]
  },
  {
   "cell_type": "code",
   "execution_count": 6,
   "id": "ef7ccc25-54d6-4b84-889a-bcbe0502dcc7",
   "metadata": {},
   "outputs": [
    {
     "data": {
      "text/plain": [
       "User ID            0\n",
       "Gender             0\n",
       "Age                0\n",
       "EstimatedSalary    0\n",
       "Purchased          0\n",
       "dtype: int64"
      ]
     },
     "execution_count": 6,
     "metadata": {},
     "output_type": "execute_result"
    }
   ],
   "source": [
    "df.isnull().sum()"
   ]
  },
  {
   "cell_type": "code",
   "execution_count": 7,
   "id": "373a27fa-c81c-4f3c-86ab-340af98b418c",
   "metadata": {},
   "outputs": [
    {
     "data": {
      "text/html": [
       "<div>\n",
       "<style scoped>\n",
       "    .dataframe tbody tr th:only-of-type {\n",
       "        vertical-align: middle;\n",
       "    }\n",
       "\n",
       "    .dataframe tbody tr th {\n",
       "        vertical-align: top;\n",
       "    }\n",
       "\n",
       "    .dataframe thead th {\n",
       "        text-align: right;\n",
       "    }\n",
       "</style>\n",
       "<table border=\"1\" class=\"dataframe\">\n",
       "  <thead>\n",
       "    <tr style=\"text-align: right;\">\n",
       "      <th></th>\n",
       "      <th>User ID</th>\n",
       "      <th>Age</th>\n",
       "      <th>EstimatedSalary</th>\n",
       "      <th>Purchased</th>\n",
       "    </tr>\n",
       "  </thead>\n",
       "  <tbody>\n",
       "    <tr>\n",
       "      <th>count</th>\n",
       "      <td>4.000000e+02</td>\n",
       "      <td>400.000000</td>\n",
       "      <td>400.000000</td>\n",
       "      <td>400.000000</td>\n",
       "    </tr>\n",
       "    <tr>\n",
       "      <th>mean</th>\n",
       "      <td>1.569154e+07</td>\n",
       "      <td>37.655000</td>\n",
       "      <td>69742.500000</td>\n",
       "      <td>0.357500</td>\n",
       "    </tr>\n",
       "    <tr>\n",
       "      <th>std</th>\n",
       "      <td>7.165832e+04</td>\n",
       "      <td>10.482877</td>\n",
       "      <td>34096.960282</td>\n",
       "      <td>0.479864</td>\n",
       "    </tr>\n",
       "    <tr>\n",
       "      <th>min</th>\n",
       "      <td>1.556669e+07</td>\n",
       "      <td>18.000000</td>\n",
       "      <td>15000.000000</td>\n",
       "      <td>0.000000</td>\n",
       "    </tr>\n",
       "    <tr>\n",
       "      <th>25%</th>\n",
       "      <td>1.562676e+07</td>\n",
       "      <td>29.750000</td>\n",
       "      <td>43000.000000</td>\n",
       "      <td>0.000000</td>\n",
       "    </tr>\n",
       "    <tr>\n",
       "      <th>50%</th>\n",
       "      <td>1.569434e+07</td>\n",
       "      <td>37.000000</td>\n",
       "      <td>70000.000000</td>\n",
       "      <td>0.000000</td>\n",
       "    </tr>\n",
       "    <tr>\n",
       "      <th>75%</th>\n",
       "      <td>1.575036e+07</td>\n",
       "      <td>46.000000</td>\n",
       "      <td>88000.000000</td>\n",
       "      <td>1.000000</td>\n",
       "    </tr>\n",
       "    <tr>\n",
       "      <th>max</th>\n",
       "      <td>1.581524e+07</td>\n",
       "      <td>60.000000</td>\n",
       "      <td>150000.000000</td>\n",
       "      <td>1.000000</td>\n",
       "    </tr>\n",
       "  </tbody>\n",
       "</table>\n",
       "</div>"
      ],
      "text/plain": [
       "            User ID         Age  EstimatedSalary   Purchased\n",
       "count  4.000000e+02  400.000000       400.000000  400.000000\n",
       "mean   1.569154e+07   37.655000     69742.500000    0.357500\n",
       "std    7.165832e+04   10.482877     34096.960282    0.479864\n",
       "min    1.556669e+07   18.000000     15000.000000    0.000000\n",
       "25%    1.562676e+07   29.750000     43000.000000    0.000000\n",
       "50%    1.569434e+07   37.000000     70000.000000    0.000000\n",
       "75%    1.575036e+07   46.000000     88000.000000    1.000000\n",
       "max    1.581524e+07   60.000000    150000.000000    1.000000"
      ]
     },
     "execution_count": 7,
     "metadata": {},
     "output_type": "execute_result"
    }
   ],
   "source": [
    "df.describe()"
   ]
  },
  {
   "cell_type": "markdown",
   "id": "a6b9b93d-4c47-47ed-8871-9e1fabd65a8d",
   "metadata": {},
   "source": [
    "# Encoding gender feature"
   ]
  },
  {
   "cell_type": "markdown",
   "id": "3cad2b83-dd6a-40c8-b691-2f1befaa842c",
   "metadata": {},
   "source": [
    "## transfer string to number"
   ]
  },
  {
   "cell_type": "code",
   "execution_count": 9,
   "id": "4d91cb29-a5c2-40a4-a2e2-254fd4a43458",
   "metadata": {},
   "outputs": [
    {
     "data": {
      "text/plain": [
       "2"
      ]
     },
     "execution_count": 9,
     "metadata": {},
     "output_type": "execute_result"
    }
   ],
   "source": [
    "df['Gender'].nunique()"
   ]
  },
  {
   "cell_type": "code",
   "execution_count": 10,
   "id": "039f5d4a-f39b-41a7-b93b-69acf47d751c",
   "metadata": {},
   "outputs": [
    {
     "data": {
      "text/plain": [
       "array(['Male', 'Female'], dtype=object)"
      ]
     },
     "execution_count": 10,
     "metadata": {},
     "output_type": "execute_result"
    }
   ],
   "source": [
    "df['Gender'].unique()"
   ]
  },
  {
   "cell_type": "code",
   "execution_count": 11,
   "id": "5038e4c8-4b37-4012-8b95-25ea4b85d2ff",
   "metadata": {},
   "outputs": [],
   "source": [
    "df['Gender'].replace(['Male','Female'],[1,0],inplace=True)"
   ]
  },
  {
   "cell_type": "code",
   "execution_count": 12,
   "id": "095676ac-c7de-4f64-bd7a-3c04b1592594",
   "metadata": {},
   "outputs": [
    {
     "data": {
      "text/html": [
       "<div>\n",
       "<style scoped>\n",
       "    .dataframe tbody tr th:only-of-type {\n",
       "        vertical-align: middle;\n",
       "    }\n",
       "\n",
       "    .dataframe tbody tr th {\n",
       "        vertical-align: top;\n",
       "    }\n",
       "\n",
       "    .dataframe thead th {\n",
       "        text-align: right;\n",
       "    }\n",
       "</style>\n",
       "<table border=\"1\" class=\"dataframe\">\n",
       "  <thead>\n",
       "    <tr style=\"text-align: right;\">\n",
       "      <th></th>\n",
       "      <th>User ID</th>\n",
       "      <th>Gender</th>\n",
       "      <th>Age</th>\n",
       "      <th>EstimatedSalary</th>\n",
       "      <th>Purchased</th>\n",
       "    </tr>\n",
       "  </thead>\n",
       "  <tbody>\n",
       "    <tr>\n",
       "      <th>36</th>\n",
       "      <td>15690188</td>\n",
       "      <td>0</td>\n",
       "      <td>33</td>\n",
       "      <td>28000</td>\n",
       "      <td>0</td>\n",
       "    </tr>\n",
       "    <tr>\n",
       "      <th>13</th>\n",
       "      <td>15704987</td>\n",
       "      <td>1</td>\n",
       "      <td>32</td>\n",
       "      <td>18000</td>\n",
       "      <td>0</td>\n",
       "    </tr>\n",
       "    <tr>\n",
       "      <th>98</th>\n",
       "      <td>15575694</td>\n",
       "      <td>1</td>\n",
       "      <td>35</td>\n",
       "      <td>73000</td>\n",
       "      <td>0</td>\n",
       "    </tr>\n",
       "    <tr>\n",
       "      <th>235</th>\n",
       "      <td>15646227</td>\n",
       "      <td>1</td>\n",
       "      <td>46</td>\n",
       "      <td>79000</td>\n",
       "      <td>1</td>\n",
       "    </tr>\n",
       "    <tr>\n",
       "      <th>56</th>\n",
       "      <td>15775562</td>\n",
       "      <td>0</td>\n",
       "      <td>23</td>\n",
       "      <td>48000</td>\n",
       "      <td>0</td>\n",
       "    </tr>\n",
       "  </tbody>\n",
       "</table>\n",
       "</div>"
      ],
      "text/plain": [
       "      User ID  Gender  Age  EstimatedSalary  Purchased\n",
       "36   15690188       0   33            28000          0\n",
       "13   15704987       1   32            18000          0\n",
       "98   15575694       1   35            73000          0\n",
       "235  15646227       1   46            79000          1\n",
       "56   15775562       0   23            48000          0"
      ]
     },
     "execution_count": 12,
     "metadata": {},
     "output_type": "execute_result"
    }
   ],
   "source": [
    "df.sample(5)"
   ]
  },
  {
   "cell_type": "markdown",
   "id": "f0795e63-a343-4460-9fdc-a61fe9c60d4d",
   "metadata": {},
   "source": [
    "# Exploratory Data Analysis(EDA)"
   ]
  },
  {
   "cell_type": "code",
   "execution_count": 13,
   "id": "f10f30ca-ac57-4490-8540-cf4f84b4f2ad",
   "metadata": {},
   "outputs": [
    {
     "data": {
      "text/plain": [
       "<Axes: ylabel='Age'>"
      ]
     },
     "execution_count": 13,
     "metadata": {},
     "output_type": "execute_result"
    },
    {
     "data": {
      "image/png": "[encoded data removed]",
      "text/plain": [
       "<Figure size 640x480 with 1 Axes>"
      ]
     },
     "metadata": {},
     "output_type": "display_data"
    }
   ],
   "source": [
    "sn.boxplot(df['Age'])"
   ]
  },
  {
   "cell_type": "code",
   "execution_count": 14,
   "id": "4269051e-7db1-4524-9e1e-c229a1a6be36",
   "metadata": {},
   "outputs": [
    {
     "data": {
      "text/plain": [
       "<Axes: ylabel='EstimatedSalary'>"
      ]
     },
     "execution_count": 14,
     "metadata": {},
     "output_type": "execute_result"
    },
    {
     "data": {
      "image/png": "[encoded data removed]",
      "text/plain": [
       "<Figure size 640x480 with 1 Axes>"
      ]
     },
     "metadata": {},
     "output_type": "display_data"
    }
   ],
   "source": [
    "sn.boxplot(df['EstimatedSalary'])"
   ]
  },
  {
   "cell_type": "code",
   "execution_count": 15,
   "id": "21aaf0a9-0124-4930-8d95-817d4e55d6ac",
   "metadata": {},
   "outputs": [],
   "source": [
    "# whenever we use ml algo first do splitting and then do feature engineering"
   ]
  },
  {
   "cell_type": "code",
   "execution_count": 16,
   "id": "0fadc65b-add4-4e0f-8031-03b88f00ea52",
   "metadata": {},
   "outputs": [],
   "source": [
    "# fit transform is function, fit is used to learn the range and then transform it or scale it\n",
    "# it should be done for only tranin data"
   ]
  },
  {
   "cell_type": "markdown",
   "id": "26e4537d-432f-4cfc-8b90-0b274a34b8ef",
   "metadata": {},
   "source": [
    "## Setting value of x and y"
   ]
  },
  {
   "cell_type": "raw",
   "id": "20d8da05-a45b-4df7-b23c-cbd09e8537b7",
   "metadata": {},
   "source": [
    "x[independent variables] and y[dependent]"
   ]
  },
  {
   "cell_type": "code",
   "execution_count": 17,
   "id": "92d4d646-bb3d-4b62-bb98-c6ca10927cbb",
   "metadata": {},
   "outputs": [],
   "source": [
    "x=df.iloc[:,1:4];\n",
    "y=df.iloc[:,4];"
   ]
  },
  {
   "cell_type": "code",
   "execution_count": 18,
   "id": "58a030a6-f5d2-41e2-b661-9ccf2a8f5fd0",
   "metadata": {},
   "outputs": [
    {
     "data": {
      "text/html": [
       "<div>\n",
       "<style scoped>\n",
       "    .dataframe tbody tr th:only-of-type {\n",
       "        vertical-align: middle;\n",
       "    }\n",
       "\n",
       "    .dataframe tbody tr th {\n",
       "        vertical-align: top;\n",
       "    }\n",
       "\n",
       "    .dataframe thead th {\n",
       "        text-align: right;\n",
       "    }\n",
       "</style>\n",
       "<table border=\"1\" class=\"dataframe\">\n",
       "  <thead>\n",
       "    <tr style=\"text-align: right;\">\n",
       "      <th></th>\n",
       "      <th>Gender</th>\n",
       "      <th>Age</th>\n",
       "      <th>EstimatedSalary</th>\n",
       "    </tr>\n",
       "  </thead>\n",
       "  <tbody>\n",
       "    <tr>\n",
       "      <th>0</th>\n",
       "      <td>1</td>\n",
       "      <td>19</td>\n",
       "      <td>19000</td>\n",
       "    </tr>\n",
       "    <tr>\n",
       "      <th>1</th>\n",
       "      <td>1</td>\n",
       "      <td>35</td>\n",
       "      <td>20000</td>\n",
       "    </tr>\n",
       "    <tr>\n",
       "      <th>2</th>\n",
       "      <td>0</td>\n",
       "      <td>26</td>\n",
       "      <td>43000</td>\n",
       "    </tr>\n",
       "    <tr>\n",
       "      <th>3</th>\n",
       "      <td>0</td>\n",
       "      <td>27</td>\n",
       "      <td>57000</td>\n",
       "    </tr>\n",
       "    <tr>\n",
       "      <th>4</th>\n",
       "      <td>1</td>\n",
       "      <td>19</td>\n",
       "      <td>76000</td>\n",
       "    </tr>\n",
       "  </tbody>\n",
       "</table>\n",
       "</div>"
      ],
      "text/plain": [
       "   Gender  Age  EstimatedSalary\n",
       "0       1   19            19000\n",
       "1       1   35            20000\n",
       "2       0   26            43000\n",
       "3       0   27            57000\n",
       "4       1   19            76000"
      ]
     },
     "execution_count": 18,
     "metadata": {},
     "output_type": "execute_result"
    }
   ],
   "source": [
    "x.head()"
   ]
  },
  {
   "cell_type": "code",
   "execution_count": 19,
   "id": "018223b9-fcf6-4242-b497-6f9415f0fcb3",
   "metadata": {},
   "outputs": [
    {
     "data": {
      "text/plain": [
       "0    0\n",
       "1    0\n",
       "2    0\n",
       "3    0\n",
       "4    0\n",
       "Name: Purchased, dtype: int64"
      ]
     },
     "execution_count": 19,
     "metadata": {},
     "output_type": "execute_result"
    }
   ],
   "source": [
    "y.head()"
   ]
  },
  {
   "cell_type": "markdown",
   "id": "921a1abc-e789-414f-82b7-cabab51cd767",
   "metadata": {},
   "source": [
    "#### Splitting dataset into training and testing dataset"
   ]
  },
  {
   "cell_type": "code",
   "execution_count": 20,
   "id": "9d00c297-df75-4ae6-b75a-9d32b8743676",
   "metadata": {},
   "outputs": [],
   "source": [
    "from sklearn.model_selection import train_test_split\n",
    "\n",
    "x_train,x_test,y_train,y_test=train_test_split(x,y,test_size=0.2,random_state=42)"
   ]
  },
  {
   "cell_type": "code",
   "execution_count": 21,
   "id": "2fb3c8f1-fb30-4d31-b4b9-20ab9de26c2c",
   "metadata": {},
   "outputs": [
    {
     "data": {
      "text/plain": [
       "(320, 3)"
      ]
     },
     "execution_count": 21,
     "metadata": {},
     "output_type": "execute_result"
    }
   ],
   "source": [
    "x_train.shape"
   ]
  },
  {
   "cell_type": "code",
   "execution_count": 22,
   "id": "c3e4b03d-421a-48a3-8eab-88605d53c05f",
   "metadata": {},
   "outputs": [
    {
     "data": {
      "text/plain": [
       "(320,)"
      ]
     },
     "execution_count": 22,
     "metadata": {},
     "output_type": "execute_result"
    }
   ],
   "source": [
    "y_train.shape"
   ]
  },
  {
   "cell_type": "code",
   "execution_count": 23,
   "id": "aa4bf624-a32e-432c-82cc-19602170376c",
   "metadata": {},
   "outputs": [
    {
     "data": {
      "text/plain": [
       "(80, 3)"
      ]
     },
     "execution_count": 23,
     "metadata": {},
     "output_type": "execute_result"
    }
   ],
   "source": [
    "x_test.shape"
   ]
  },
  {
   "cell_type": "code",
   "execution_count": null,
   "id": "ffdcd0e4-8af5-4128-8598-f4f18c4f6cff",
   "metadata": {},
   "outputs": [],
   "source": []
  },
  {
   "cell_type": "markdown",
   "id": "9f7b1954-f372-4fe0-9001-67ac1fb8d036",
   "metadata": {},
   "source": [
    "## Scaling"
   ]
  },
  {
   "cell_type": "markdown",
   "id": "720e4fa3-b5a0-49b7-b2d4-f673eb890158",
   "metadata": {},
   "source": [
    "### Checking Distribution of age and estimated salary"
   ]
  },
  {
   "cell_type": "code",
   "execution_count": 24,
   "id": "7db43e93-c783-4f92-bc8c-07cc298091b9",
   "metadata": {},
   "outputs": [
    {
     "data": {
      "text/plain": [
       "0.23133746309642822"
      ]
     },
     "execution_count": 24,
     "metadata": {},
     "output_type": "execute_result"
    }
   ],
   "source": [
    "df['Age'].skew()"
   ]
  },
  {
   "cell_type": "code",
   "execution_count": 25,
   "id": "375f16a0-b30c-4321-ba44-53e5effce6bc",
   "metadata": {},
   "outputs": [
    {
     "data": {
      "text/plain": [
       "<Axes: xlabel='Age', ylabel='Density'>"
      ]
     },
     "execution_count": 25,
     "metadata": {},
     "output_type": "execute_result"
    },
    {
     "data": {
      "image/png": "[encoded data removed]",
      "text/plain": [
       "<Figure size 640x480 with 1 Axes>"
      ]
     },
     "metadata": {},
     "output_type": "display_data"
    }
   ],
   "source": [
    "sn.kdeplot(df['Age'])"
   ]
  },
  {
   "cell_type": "code",
   "execution_count": 26,
   "id": "0a3641dc-2fee-401d-9efa-b5e9c0eb68b8",
   "metadata": {},
   "outputs": [
    {
     "data": {
      "text/plain": [
       "0.49502362888993623"
      ]
     },
     "execution_count": 26,
     "metadata": {},
     "output_type": "execute_result"
    }
   ],
   "source": [
    "df['EstimatedSalary'].skew()"
   ]
  },
  {
   "cell_type": "code",
   "execution_count": 27,
   "id": "17edd8da-652b-4281-966f-d1e32c553f1d",
   "metadata": {},
   "outputs": [
    {
     "data": {
      "text/plain": [
       "<Axes: xlabel='EstimatedSalary', ylabel='Density'>"
      ]
     },
     "execution_count": 27,
     "metadata": {},
     "output_type": "execute_result"
    },
    {
     "data": {
      "image/png": "[encoded data removed]",
      "text/plain": [
       "<Figure size 640x480 with 1 Axes>"
      ]
     },
     "metadata": {},
     "output_type": "display_data"
    }
   ],
   "source": [
    "sn.kdeplot(df['EstimatedSalary'])"
   ]
  },
  {
   "cell_type": "markdown",
   "id": "5717f028-2cdb-4f96-b80e-82ee1bebab07",
   "metadata": {},
   "source": [
    "### age and estimated salary are normally distributed"
   ]
  },
  {
   "cell_type": "markdown",
   "id": "0df54150-18cd-40a2-854c-610c60132e80",
   "metadata": {},
   "source": [
    "## as its normal apply standard scaler"
   ]
  },
  {
   "cell_type": "code",
   "execution_count": 28,
   "id": "5bfac779-41d4-4690-9c01-f4f5aec48fb7",
   "metadata": {},
   "outputs": [],
   "source": [
    "from sklearn.preprocessing import StandardScaler"
   ]
  },
  {
   "cell_type": "code",
   "execution_count": 29,
   "id": "2da2a0a4-178b-4b22-95bc-088e1b8b55d8",
   "metadata": {},
   "outputs": [
    {
     "data": {
      "text/html": [
       "<div>\n",
       "<style scoped>\n",
       "    .dataframe tbody tr th:only-of-type {\n",
       "        vertical-align: middle;\n",
       "    }\n",
       "\n",
       "    .dataframe tbody tr th {\n",
       "        vertical-align: top;\n",
       "    }\n",
       "\n",
       "    .dataframe thead th {\n",
       "        text-align: right;\n",
       "    }\n",
       "</style>\n",
       "<table border=\"1\" class=\"dataframe\">\n",
       "  <thead>\n",
       "    <tr style=\"text-align: right;\">\n",
       "      <th></th>\n",
       "      <th>Gender</th>\n",
       "      <th>Age</th>\n",
       "      <th>EstimatedSalary</th>\n",
       "    </tr>\n",
       "  </thead>\n",
       "  <tbody>\n",
       "    <tr>\n",
       "      <th>3</th>\n",
       "      <td>0</td>\n",
       "      <td>27</td>\n",
       "      <td>57000</td>\n",
       "    </tr>\n",
       "    <tr>\n",
       "      <th>18</th>\n",
       "      <td>1</td>\n",
       "      <td>46</td>\n",
       "      <td>28000</td>\n",
       "    </tr>\n",
       "    <tr>\n",
       "      <th>202</th>\n",
       "      <td>0</td>\n",
       "      <td>39</td>\n",
       "      <td>134000</td>\n",
       "    </tr>\n",
       "    <tr>\n",
       "      <th>250</th>\n",
       "      <td>0</td>\n",
       "      <td>44</td>\n",
       "      <td>39000</td>\n",
       "    </tr>\n",
       "    <tr>\n",
       "      <th>274</th>\n",
       "      <td>0</td>\n",
       "      <td>57</td>\n",
       "      <td>26000</td>\n",
       "    </tr>\n",
       "    <tr>\n",
       "      <th>...</th>\n",
       "      <td>...</td>\n",
       "      <td>...</td>\n",
       "      <td>...</td>\n",
       "    </tr>\n",
       "    <tr>\n",
       "      <th>71</th>\n",
       "      <td>0</td>\n",
       "      <td>24</td>\n",
       "      <td>27000</td>\n",
       "    </tr>\n",
       "    <tr>\n",
       "      <th>106</th>\n",
       "      <td>0</td>\n",
       "      <td>26</td>\n",
       "      <td>35000</td>\n",
       "    </tr>\n",
       "    <tr>\n",
       "      <th>270</th>\n",
       "      <td>0</td>\n",
       "      <td>43</td>\n",
       "      <td>133000</td>\n",
       "    </tr>\n",
       "    <tr>\n",
       "      <th>348</th>\n",
       "      <td>1</td>\n",
       "      <td>39</td>\n",
       "      <td>77000</td>\n",
       "    </tr>\n",
       "    <tr>\n",
       "      <th>102</th>\n",
       "      <td>0</td>\n",
       "      <td>32</td>\n",
       "      <td>86000</td>\n",
       "    </tr>\n",
       "  </tbody>\n",
       "</table>\n",
       "<p>320 rows × 3 columns</p>\n",
       "</div>"
      ],
      "text/plain": [
       "     Gender  Age  EstimatedSalary\n",
       "3         0   27            57000\n",
       "18        1   46            28000\n",
       "202       0   39           134000\n",
       "250       0   44            39000\n",
       "274       0   57            26000\n",
       "..      ...  ...              ...\n",
       "71        0   24            27000\n",
       "106       0   26            35000\n",
       "270       0   43           133000\n",
       "348       1   39            77000\n",
       "102       0   32            86000\n",
       "\n",
       "[320 rows x 3 columns]"
      ]
     },
     "execution_count": 29,
     "metadata": {},
     "output_type": "execute_result"
    }
   ],
   "source": [
    "x_train"
   ]
  },
  {
   "cell_type": "code",
   "execution_count": 30,
   "id": "1c5a91ef-5d84-40fb-bf3a-1ad5afda716e",
   "metadata": {},
   "outputs": [],
   "source": [
    "scaler=StandardScaler()\n",
    "x_train=scaler.fit_transform(x_train)\n",
    "x_test=scaler.transform(x_test)"
   ]
  },
  {
   "cell_type": "code",
   "execution_count": 31,
   "id": "b0006869-d4f9-4a22-be6c-3af7ec00e20c",
   "metadata": {
    "scrolled": true
   },
   "outputs": [
    {
     "data": {
      "text/plain": [
       "array([[-1.        , -1.06675246, -0.38634438],\n",
       "       [ 1.        ,  0.79753468, -1.22993871],\n",
       "       [-1.        ,  0.11069205,  1.853544  ],\n",
       "       [-1.        ,  0.60129393, -0.90995465],\n",
       "       [-1.        ,  1.87685881, -1.28811763],\n",
       "       [ 1.        , -0.57615058,  1.44629156],\n",
       "       [ 1.        ,  0.3069328 , -0.53179168],\n",
       "       [ 1.        ,  0.99377543,  0.10817643],\n",
       "       [ 1.        , -1.16487283,  0.45724994],\n",
       "       [ 1.        , -1.55735433,  0.31180264],\n",
       "       [ 1.        ,  1.0918958 ,  0.45724994],\n",
       "       [-1.        , -0.18366908, -0.47361276],\n",
       "       [ 1.        ,  0.20881242, -0.32816546],\n",
       "       [-1.        ,  0.3069328 ,  0.28271318],\n",
       "       [ 1.        , -1.16487283, -1.57901222],\n",
       "       [-1.        ,  0.11069205,  0.25362372],\n",
       "       [ 1.        ,  2.07309956,  1.73718616],\n",
       "       [ 1.        ,  0.40505317, -0.18271817],\n",
       "       [-1.        ,  1.4843773 ,  2.11534913],\n",
       "       [ 1.        , -0.37990983,  1.21357589],\n",
       "       [-1.        ,  1.87685881,  1.50447048],\n",
       "       [-1.        ,  0.11069205,  0.02090805],\n",
       "       [ 1.        ,  0.89565505, -1.31720709],\n",
       "       [ 1.        , -1.36111358, -1.49174384],\n",
       "       [-1.        , -0.18366908, -0.5899706 ],\n",
       "       [-1.        , -0.57615058,  2.31897535],\n",
       "       [-1.        ,  0.99377543, -1.20084925],\n",
       "       [ 1.        , -0.77239133,  1.06812859],\n",
       "       [ 1.        ,  2.17121993, -1.05540195],\n",
       "       [ 1.        ,  0.01257167, -0.26998655],\n",
       "       [ 1.        , -0.4780302 , -1.14267033],\n",
       "       [ 1.        ,  0.11069205,  0.02090805],\n",
       "       [ 1.        ,  1.68061805, -0.90995465],\n",
       "       [-1.        ,  1.0918958 , -0.90995465],\n",
       "       [-1.        ,  0.50317355,  1.21357589],\n",
       "       [ 1.        , -1.06675246, -1.46265438],\n",
       "       [-1.        , -1.16487283, -1.54992276],\n",
       "       [-1.        , -0.0855487 ,  0.66087616],\n",
       "       [ 1.        ,  0.40505317, -0.47361276],\n",
       "       [ 1.        , -0.28178945, -0.26998655],\n",
       "       [ 1.        , -0.87051171,  0.13726589],\n",
       "       [-1.        ,  0.01257167,  0.28271318],\n",
       "       [ 1.        ,  0.6994143 , -1.28811763],\n",
       "       [-1.        ,  1.58249768,  1.09721805],\n",
       "       [ 1.        ,  0.79753468, -1.37538601],\n",
       "       [-1.        , -1.45923396, -1.22993871],\n",
       "       [ 1.        , -0.0855487 ,  0.13726589],\n",
       "       [ 1.        ,  0.40505317, -0.15362871],\n",
       "       [-1.        , -0.28178945,  0.02090805],\n",
       "       [-1.        ,  1.28813655,  2.20261751],\n",
       "       [ 1.        ,  0.11069205,  0.74814454],\n",
       "       [-1.        , -1.36111358,  0.54451832],\n",
       "       [-1.        ,  1.97497918,  0.71905508],\n",
       "       [ 1.        , -1.26299321, -1.40447546],\n",
       "       [ 1.        ,  0.3069328 , -0.32816546],\n",
       "       [ 1.        , -0.96863208,  0.54451832],\n",
       "       [-1.        ,  0.40505317,  0.28271318],\n",
       "       [-1.        ,  0.40505317,  1.09721805],\n",
       "       [-1.        ,  0.79753468,  0.74814454],\n",
       "       [-1.        ,  0.89565505,  1.24266535],\n",
       "       [-1.        , -0.4780302 , -1.22993871],\n",
       "       [ 1.        , -1.85171546, -1.31720709],\n",
       "       [ 1.        ,  1.0918958 ,  0.54451832],\n",
       "       [-1.        , -0.67427095, -1.60810168],\n",
       "       [-1.        , -0.77239133,  0.25362372],\n",
       "       [ 1.        ,  0.99377543,  2.05717021],\n",
       "       [-1.        , -0.57615058,  1.35902318],\n",
       "       [-1.        , -0.0855487 ,  0.02090805],\n",
       "       [-1.        , -1.94983583,  0.45724994],\n",
       "       [-1.        ,  0.40505317,  0.25362372],\n",
       "       [-1.        , -1.06675246,  0.39907102],\n",
       "       [ 1.        ,  0.20881242, -0.15362871],\n",
       "       [ 1.        ,  1.87685881,  0.10817643],\n",
       "       [-1.        , -1.16487283, -1.60810168],\n",
       "       [-1.        , -1.16487283,  0.28271318],\n",
       "       [ 1.        , -0.87051171, -0.79359682],\n",
       "       [-1.        , -0.4780302 ,  2.28988589],\n",
       "       [ 1.        ,  0.11069205, -0.82268628],\n",
       "       [-1.        ,  1.58249768,  0.98086021],\n",
       "       [ 1.        , -0.18366908, -1.08449141],\n",
       "       [-1.        ,  0.79753468, -1.11358087],\n",
       "       [-1.        ,  0.20881242,  2.08625967],\n",
       "       [-1.        , -0.0855487 , -0.24089709],\n",
       "       [ 1.        , -0.87051171,  2.26079643],\n",
       "       [-1.        , -0.0855487 , -0.38634438],\n",
       "       [ 1.        , -0.28178945, -0.5899706 ],\n",
       "       [-1.        ,  0.40505317, -0.50270222],\n",
       "       [ 1.        , -0.28178945, -0.93904411],\n",
       "       [-1.        ,  0.3069328 , -1.17175979],\n",
       "       [-1.        ,  0.20881242,  0.04999751],\n",
       "       [ 1.        , -1.16487283, -1.60810168],\n",
       "       [-1.        , -0.67427095, -0.06636033],\n",
       "       [ 1.        , -0.28178945, -0.50270222],\n",
       "       [-1.        , -0.28178945, -1.31720709],\n",
       "       [ 1.        , -0.77239133,  0.54451832],\n",
       "       [ 1.        ,  0.3069328 ,  0.04999751],\n",
       "       [ 1.        , -0.96863208,  1.53355994],\n",
       "       [-1.        ,  0.79753468,  0.3408921 ],\n",
       "       [-1.        , -1.55735433, -0.21180763],\n",
       "       [-1.        ,  0.6994143 , -1.40447546],\n",
       "       [ 1.        , -0.77239133, -0.61906006],\n",
       "       [-1.        , -0.37990983, -1.31720709],\n",
       "       [-1.        ,  0.20881242,  0.13726589],\n",
       "       [-1.        , -0.57615058,  1.35902318],\n",
       "       [-1.        , -1.45923396,  0.3408921 ],\n",
       "       [ 1.        , -1.16487283,  0.28271318],\n",
       "       [-1.        ,  0.99377543,  1.76627562],\n",
       "       [ 1.        ,  2.07309956,  2.11534913],\n",
       "       [ 1.        , -0.28178945, -0.4445233 ],\n",
       "       [ 1.        , -0.37990983, -0.79359682],\n",
       "       [-1.        ,  0.11069205, -0.26998655],\n",
       "       [-1.        , -1.06675246,  0.74814454],\n",
       "       [ 1.        ,  2.17121993,  0.36998156],\n",
       "       [ 1.        , -1.36111358, -0.4445233 ],\n",
       "       [ 1.        ,  1.97497918,  2.14443859],\n",
       "       [-1.        ,  1.4843773 ,  0.98086021],\n",
       "       [ 1.        , -0.28178945,  0.25362372],\n",
       "       [ 1.        , -0.18366908,  0.83541291],\n",
       "       [ 1.        ,  1.87685881, -0.29907601],\n",
       "       [-1.        , -0.0855487 ,  1.94081237],\n",
       "       [ 1.        , -0.4780302 , -0.79359682],\n",
       "       [-1.        ,  0.3069328 ,  0.02090805],\n",
       "       [-1.        ,  1.38625693, -1.43356492],\n",
       "       [ 1.        ,  1.38625693,  2.31897535],\n",
       "       [ 1.        , -0.0855487 , -0.00818141],\n",
       "       [-1.        , -1.16487283,  0.39907102],\n",
       "       [-1.        , -1.16487283,  0.04999751],\n",
       "       [-1.        , -1.16487283, -0.53179168],\n",
       "       [-1.        ,  0.3069328 , -0.29907601],\n",
       "       [ 1.        , -0.67427095, -0.12453925],\n",
       "       [ 1.        , -0.0855487 ,  2.14443859],\n",
       "       [ 1.        ,  0.01257167, -0.26998655],\n",
       "       [-1.        , -0.67427095, -1.05540195],\n",
       "       [-1.        ,  0.40505317,  0.13726589],\n",
       "       [ 1.        ,  0.79753468,  1.35902318],\n",
       "       [ 1.        , -0.18366908, -0.53179168],\n",
       "       [ 1.        ,  0.01257167,  0.02090805],\n",
       "       [ 1.        ,  1.0918958 ,  0.51542886],\n",
       "       [-1.        ,  1.87685881, -1.08449141],\n",
       "       [-1.        ,  0.99377543,  1.96990183],\n",
       "       [-1.        ,  0.89565505, -0.5899706 ],\n",
       "       [-1.        , -0.4780302 , -0.03727087],\n",
       "       [-1.        , -0.0855487 ,  2.20261751],\n",
       "       [-1.        , -1.75359508,  0.3408921 ],\n",
       "       [ 1.        ,  0.20881242, -0.67723898],\n",
       "       [ 1.        , -0.28178945, -1.40447546],\n",
       "       [-1.        , -1.75359508, -0.99722303],\n",
       "       [-1.        ,  0.6994143 , -0.7354179 ],\n",
       "       [-1.        , -1.16487283, -0.79359682],\n",
       "       [-1.        ,  1.97497918,  0.89359183],\n",
       "       [ 1.        ,  0.20881242, -0.38634438],\n",
       "       [-1.        ,  0.01257167,  1.21357589],\n",
       "       [-1.        , -0.0855487 ,  0.28271318],\n",
       "       [ 1.        ,  1.0918958 , -1.22993871],\n",
       "       [-1.        , -0.18366908,  0.13726589],\n",
       "       [-1.        ,  0.3069328 ,  0.04999751],\n",
       "       [-1.        , -0.28178945, -0.29907601],\n",
       "       [ 1.        ,  0.50317355,  1.7080967 ],\n",
       "       [ 1.        ,  0.3069328 ,  0.4863394 ],\n",
       "       [-1.        ,  0.01257167,  1.24266535],\n",
       "       [-1.        ,  1.97497918, -1.37538601],\n",
       "       [ 1.        , -1.16487283, -1.11358087],\n",
       "       [ 1.        , -0.57615058, -1.5208333 ],\n",
       "       [ 1.        ,  0.3069328 , -0.53179168],\n",
       "       [ 1.        , -0.67427095, -1.5208333 ],\n",
       "       [ 1.        , -0.28178945,  0.51542886],\n",
       "       [-1.        ,  0.99377543, -1.02631249],\n",
       "       [ 1.        , -1.06675246,  0.54451832],\n",
       "       [-1.        , -0.28178945,  0.777234  ],\n",
       "       [ 1.        ,  0.40505317,  0.07908697],\n",
       "       [-1.        , -1.65547471, -0.06636033],\n",
       "       [-1.        ,  0.3069328 ,  0.04999751],\n",
       "       [-1.        , -0.4780302 , -0.29907601],\n",
       "       [ 1.        ,  0.11069205,  1.853544  ],\n",
       "       [-1.        , -0.96863208,  0.39907102],\n",
       "       [ 1.        ,  0.79753468,  0.51542886],\n",
       "       [ 1.        , -1.36111358, -0.35725492],\n",
       "       [-1.        , -0.67427095,  1.38811264],\n",
       "       [-1.        ,  1.19001618,  0.51542886],\n",
       "       [-1.        , -1.75359508,  0.3408921 ],\n",
       "       [-1.        , -0.57615058,  1.88263345],\n",
       "       [ 1.        , -1.75359508,  0.45724994],\n",
       "       [ 1.        , -0.28178945, -1.25902817],\n",
       "       [ 1.        , -0.87051171, -0.79359682],\n",
       "       [ 1.        , -1.65547471,  0.51542886],\n",
       "       [ 1.        , -0.28178945, -0.32816546],\n",
       "       [ 1.        ,  0.6994143 , -1.11358087],\n",
       "       [ 1.        ,  2.17121993, -0.82268628],\n",
       "       [ 1.        , -0.28178945,  0.60269724],\n",
       "       [-1.        , -0.28178945, -0.76450736],\n",
       "       [-1.        , -1.94983583, -0.76450736],\n",
       "       [ 1.        ,  0.40505317,  2.28988589],\n",
       "       [ 1.        ,  0.6994143 ,  0.25362372],\n",
       "       [-1.        ,  0.20881242, -0.29907601],\n",
       "       [ 1.        , -1.36111358, -1.37538601],\n",
       "       [-1.        , -0.4780302 , -0.56088114],\n",
       "       [-1.        ,  0.40505317, -0.00818141],\n",
       "       [-1.        ,  1.68061805,  1.73718616],\n",
       "       [-1.        ,  1.19001618, -0.76450736],\n",
       "       [-1.        ,  0.99377543,  1.4172021 ],\n",
       "       [ 1.        , -1.85171546,  0.16635535],\n",
       "       [-1.        ,  0.3069328 ,  0.04999751],\n",
       "       [ 1.        ,  0.20881242,  0.02090805],\n",
       "       [ 1.        , -1.06675246,  0.51542886],\n",
       "       [-1.        , -0.18366908,  1.62082832],\n",
       "       [ 1.        , -0.28178945,  0.13726589],\n",
       "       [ 1.        , -0.28178945, -0.35725492],\n",
       "       [ 1.        , -0.37990983,  1.30084427],\n",
       "       [ 1.        , -0.28178945,  0.07908697],\n",
       "       [-1.        ,  2.17121993,  1.09721805],\n",
       "       [ 1.        , -1.26299321,  0.4863394 ],\n",
       "       [-1.        , -1.06675246, -0.47361276],\n",
       "       [-1.        , -1.65547471, -1.57901222],\n",
       "       [ 1.        , -0.0855487 ,  0.10817643],\n",
       "       [ 1.        , -0.28178945, -0.90995465],\n",
       "       [ 1.        ,  1.58249768, -0.00818141],\n",
       "       [-1.        ,  0.89565505, -1.17175979],\n",
       "       [-1.        ,  0.01257167, -0.5899706 ],\n",
       "       [-1.        , -0.28178945,  2.23170697],\n",
       "       [-1.        , -0.28178945,  0.19544481],\n",
       "       [ 1.        ,  0.3069328 ,  0.25362372],\n",
       "       [-1.        , -0.0855487 , -1.08449141],\n",
       "       [-1.        ,  2.17121993, -0.70632844],\n",
       "       [-1.        , -0.96863208, -0.32816546],\n",
       "       [-1.        , -1.45923396, -0.12453925],\n",
       "       [ 1.        , -1.45923396, -0.21180763],\n",
       "       [ 1.        , -0.77239133, -1.54992276],\n",
       "       [ 1.        , -1.26299321, -1.08449141],\n",
       "       [-1.        ,  2.07309956,  0.36998156],\n",
       "       [-1.        ,  1.97497918, -0.93904411],\n",
       "       [ 1.        , -1.94983583,  0.3408921 ],\n",
       "       [ 1.        ,  0.79753468, -0.32816546],\n",
       "       [-1.        , -1.06675246, -1.54992276],\n",
       "       [-1.        ,  1.97497918, -0.67723898],\n",
       "       [-1.        ,  0.99377543, -1.17175979],\n",
       "       [ 1.        ,  1.0918958 , -0.15362871],\n",
       "       [-1.        ,  1.19001618, -0.99722303],\n",
       "       [ 1.        ,  1.4843773 ,  0.04999751],\n",
       "       [ 1.        ,  0.20881242, -0.38634438],\n",
       "       [-1.        ,  1.38625693,  1.27175481],\n",
       "       [-1.        ,  2.07309956, -0.82268628],\n",
       "       [-1.        , -0.18366908, -0.21180763],\n",
       "       [ 1.        ,  0.40505317,  0.98086021],\n",
       "       [ 1.        , -0.0855487 , -0.53179168],\n",
       "       [ 1.        ,  0.99377543, -1.08449141],\n",
       "       [-1.        ,  2.07309956, -1.20084925],\n",
       "       [ 1.        , -0.0855487 ,  0.25362372],\n",
       "       [ 1.        ,  0.20881242, -0.26998655],\n",
       "       [ 1.        ,  1.0918958 ,  0.10817643],\n",
       "       [ 1.        , -1.26299321,  0.57360778],\n",
       "       [ 1.        , -0.77239133, -1.60810168],\n",
       "       [ 1.        ,  0.20881242,  0.22453427],\n",
       "       [ 1.        , -1.36111358,  0.39907102],\n",
       "       [-1.        ,  0.01257167, -0.5899706 ],\n",
       "       [-1.        ,  0.6994143 ,  1.76627562],\n",
       "       [ 1.        , -1.65547471,  0.04999751],\n",
       "       [-1.        , -0.28178945, -1.37538601],\n",
       "       [ 1.        , -0.28178945, -1.46265438],\n",
       "       [-1.        , -0.67427095,  0.54451832],\n",
       "       [ 1.        , -0.77239133,  0.28271318],\n",
       "       [-1.        ,  0.89565505, -0.67723898],\n",
       "       [ 1.        , -1.06675246,  0.57360778],\n",
       "       [-1.        , -0.28178945,  0.04999751],\n",
       "       [-1.        , -0.77239133,  1.32993372],\n",
       "       [ 1.        ,  0.11069205,  1.50447048],\n",
       "       [-1.        , -0.87051171,  0.36998156],\n",
       "       [-1.        ,  0.3069328 , -0.21180763],\n",
       "       [ 1.        ,  0.99377543,  0.57360778],\n",
       "       [ 1.        ,  0.01257167, -0.32816546],\n",
       "       [ 1.        , -0.57615058, -1.5208333 ],\n",
       "       [-1.        ,  0.11069205,  0.13726589],\n",
       "       [ 1.        , -1.16487283,  0.31180264],\n",
       "       [ 1.        ,  0.11069205,  1.03903913],\n",
       "       [-1.        , -1.55735433, -0.4445233 ],\n",
       "       [ 1.        , -0.18366908,  1.38811264],\n",
       "       [ 1.        ,  2.17121993, -0.82268628],\n",
       "       [-1.        , -0.96863208, -0.4445233 ],\n",
       "       [-1.        ,  1.28813655,  1.853544  ],\n",
       "       [ 1.        ,  1.0918958 , -1.22993871],\n",
       "       [ 1.        , -0.18366908, -0.29907601],\n",
       "       [-1.        ,  1.77873843,  0.98086021],\n",
       "       [-1.        , -1.06675246, -0.35725492],\n",
       "       [-1.        , -1.36111358, -1.11358087],\n",
       "       [-1.        , -0.37990983,  0.04999751],\n",
       "       [ 1.        , -0.96863208, -1.11358087],\n",
       "       [-1.        ,  1.19001618, -1.46265438],\n",
       "       [-1.        , -0.4780302 , -0.85177573],\n",
       "       [-1.        , -0.87051171, -0.67723898],\n",
       "       [ 1.        , -1.55735433, -1.5208333 ],\n",
       "       [ 1.        , -0.77239133,  1.88263345],\n",
       "       [ 1.        ,  0.89565505,  1.00994967],\n",
       "       [ 1.        ,  0.79753468,  0.25362372],\n",
       "       [-1.        ,  0.99377543,  1.853544  ],\n",
       "       [-1.        ,  0.89565505, -0.61906006],\n",
       "       [-1.        ,  1.0918958 ,  2.05717021],\n",
       "       [ 1.        , -0.57615058,  0.86450237],\n",
       "       [ 1.        ,  0.01257167,  0.02090805],\n",
       "       [-1.        , -1.85171546, -1.28811763],\n",
       "       [ 1.        , -0.0855487 ,  0.19544481],\n",
       "       [-1.        ,  0.89565505, -0.56088114],\n",
       "       [ 1.        ,  0.20881242, -0.38634438],\n",
       "       [ 1.        , -0.18366908,  1.59173886],\n",
       "       [ 1.        , -1.75359508,  0.10817643],\n",
       "       [ 1.        , -0.67427095, -0.35725492],\n",
       "       [ 1.        ,  0.3069328 , -0.7354179 ],\n",
       "       [ 1.        ,  0.40505317, -0.47361276],\n",
       "       [-1.        , -0.96863208, -0.96813357],\n",
       "       [-1.        ,  0.11069205,  0.07908697],\n",
       "       [-1.        , -0.96863208,  0.42816048],\n",
       "       [ 1.        ,  0.01257167, -0.56088114],\n",
       "       [ 1.        ,  0.89565505, -0.79359682],\n",
       "       [ 1.        , -0.0855487 ,  0.04999751],\n",
       "       [-1.        ,  1.0918958 , -0.99722303],\n",
       "       [ 1.        ,  0.6994143 , -1.40447546],\n",
       "       [ 1.        , -0.28178945,  0.04999751],\n",
       "       [-1.        , -1.36111358, -1.25902817],\n",
       "       [-1.        , -1.16487283, -1.02631249],\n",
       "       [-1.        ,  0.50317355,  1.82445454],\n",
       "       [ 1.        ,  0.11069205,  0.19544481],\n",
       "       [-1.        , -0.57615058,  0.45724994]])"
      ]
     },
     "execution_count": 31,
     "metadata": {},
     "output_type": "execute_result"
    }
   ],
   "source": [
    "x_train"
   ]
  },
  {
   "cell_type": "markdown",
   "id": "84305b41-e459-4c88-af17-ac0d86057bda",
   "metadata": {},
   "source": [
    "# Build Logistic Regression Model"
   ]
  },
  {
   "cell_type": "code",
   "execution_count": 32,
   "id": "0e499519-7792-4719-87f4-e438e43548cc",
   "metadata": {},
   "outputs": [],
   "source": [
    "from sklearn.linear_model import LogisticRegression"
   ]
  },
  {
   "cell_type": "code",
   "execution_count": 33,
   "id": "01a8d774-b1ff-4517-9474-afd24738d723",
   "metadata": {},
   "outputs": [
    {
     "data": {
      "text/html": [
       "<style>#sk-container-id-1 {color: black;}#sk-container-id-1 pre{padding: 0;}#sk-container-id-1 div.sk-toggleable {background-color: white;}#sk-container-id-1 label.sk-toggleable__label {cursor: pointer;display: block;width: 100%;margin-bottom: 0;padding: 0.3em;box-sizing: border-box;text-align: center;}#sk-container-id-1 label.sk-toggleable__label-arrow:before {content: \"▸\";float: left;margin-right: 0.25em;color: #696969;}#sk-container-id-1 label.sk-toggleable__label-arrow:hover:before {color: black;}#sk-container-id-1 div.sk-estimator:hover label.sk-toggleable__label-arrow:before {color: black;}#sk-container-id-1 div.sk-toggleable__content {max-height: 0;max-width: 0;overflow: hidden;text-align: left;background-color: #f0f8ff;}#sk-container-id-1 div.sk-toggleable__content pre {margin: 0.2em;color: black;border-radius: 0.25em;background-color: #f0f8ff;}#sk-container-id-1 input.sk-toggleable__control:checked~div.sk-toggleable__content {max-height: 200px;max-width: 100%;overflow: auto;}#sk-container-id-1 input.sk-toggleable__control:checked~label.sk-toggleable__label-arrow:before {content: \"▾\";}#sk-container-id-1 div.sk-estimator input.sk-toggleable__control:checked~label.sk-toggleable__label {background-color: #d4ebff;}#sk-container-id-1 div.sk-label input.sk-toggleable__control:checked~label.sk-toggleable__label {background-color: #d4ebff;}#sk-container-id-1 input.sk-hidden--visually {border: 0;clip: rect(1px 1px 1px 1px);clip: rect(1px, 1px, 1px, 1px);height: 1px;margin: -1px;overflow: hidden;padding: 0;position: absolute;width: 1px;}#sk-container-id-1 div.sk-estimator {font-family: monospace;background-color: #f0f8ff;border: 1px dotted black;border-radius: 0.25em;box-sizing: border-box;margin-bottom: 0.5em;}#sk-container-id-1 div.sk-estimator:hover {background-color: #d4ebff;}#sk-container-id-1 div.sk-parallel-item::after {content: \"\";width: 100%;border-bottom: 1px solid gray;flex-grow: 1;}#sk-container-id-1 div.sk-label:hover label.sk-toggleable__label {background-color: #d4ebff;}#sk-container-id-1 div.sk-serial::before {content: \"\";position: absolute;border-left: 1px solid gray;box-sizing: border-box;top: 0;bottom: 0;left: 50%;z-index: 0;}#sk-container-id-1 div.sk-serial {display: flex;flex-direction: column;align-items: center;background-color: white;padding-right: 0.2em;padding-left: 0.2em;position: relative;}#sk-container-id-1 div.sk-item {position: relative;z-index: 1;}#sk-container-id-1 div.sk-parallel {display: flex;align-items: stretch;justify-content: center;background-color: white;position: relative;}#sk-container-id-1 div.sk-item::before, #sk-container-id-1 div.sk-parallel-item::before {content: \"\";position: absolute;border-left: 1px solid gray;box-sizing: border-box;top: 0;bottom: 0;left: 50%;z-index: -1;}#sk-container-id-1 div.sk-parallel-item {display: flex;flex-direction: column;z-index: 1;position: relative;background-color: white;}#sk-container-id-1 div.sk-parallel-item:first-child::after {align-self: flex-end;width: 50%;}#sk-container-id-1 div.sk-parallel-item:last-child::after {align-self: flex-start;width: 50%;}#sk-container-id-1 div.sk-parallel-item:only-child::after {width: 0;}#sk-container-id-1 div.sk-dashed-wrapped {border: 1px dashed gray;margin: 0 0.4em 0.5em 0.4em;box-sizing: border-box;padding-bottom: 0.4em;background-color: white;}#sk-container-id-1 div.sk-label label {font-family: monospace;font-weight: bold;display: inline-block;line-height: 1.2em;}#sk-container-id-1 div.sk-label-container {text-align: center;}#sk-container-id-1 div.sk-container {/* jupyter's `normalize.less` sets `[hidden] { display: none; }` but bootstrap.min.css set `[hidden] { display: none !important; }` so we also need the `!important` here to be able to override the default hidden behavior on the sphinx rendered scikit-learn.org. See: https://github.com/scikit-learn/scikit-learn/issues/21755 */display: inline-block !important;position: relative;}#sk-container-id-1 div.sk-text-repr-fallback {display: none;}</style><div id=\"sk-container-id-1\" class=\"sk-top-container\"><div class=\"sk-text-repr-fallback\"><pre>LogisticRegression()</pre><b>In a Jupyter environment, please rerun this cell to show the HTML representation or trust the notebook. <br />On GitHub, the HTML representation is unable to render, please try loading this page with nbviewer.org.</b></div><div class=\"sk-container\" hidden><div class=\"sk-item\"><div class=\"sk-estimator sk-toggleable\"><input class=\"sk-toggleable__control sk-hidden--visually\" id=\"sk-estimator-id-1\" type=\"checkbox\" checked><label for=\"sk-estimator-id-1\" class=\"sk-toggleable__label sk-toggleable__label-arrow\">LogisticRegression</label><div class=\"sk-toggleable__content\"><pre>LogisticRegression()</pre></div></div></div></div></div>"
      ],
      "text/plain": [
       "LogisticRegression()"
      ]
     },
     "execution_count": 33,
     "metadata": {},
     "output_type": "execute_result"
    }
   ],
   "source": [
    "lr=LogisticRegression()\n",
    "lr.fit(x_train,y_train)"
   ]
  },
  {
   "cell_type": "code",
   "execution_count": 34,
   "id": "eb5243be-ecca-4dec-85e0-9b5eb7b989f0",
   "metadata": {},
   "outputs": [],
   "source": [
    "y_pred=lr.predict(x_test)"
   ]
  },
  {
   "cell_type": "code",
   "execution_count": 35,
   "id": "8705492f-a926-43f0-9cb1-f06ba6448398",
   "metadata": {},
   "outputs": [],
   "source": [
    "df1=pd.DataFrame({\"Actual\":y_test, \"Predicted\":y_pred})"
   ]
  },
  {
   "cell_type": "code",
   "execution_count": 36,
   "id": "0e54e615-55cb-4c9f-9a83-d44fccf84d3f",
   "metadata": {},
   "outputs": [
    {
     "data": {
      "text/html": [
       "<div>\n",
       "<style scoped>\n",
       "    .dataframe tbody tr th:only-of-type {\n",
       "        vertical-align: middle;\n",
       "    }\n",
       "\n",
       "    .dataframe tbody tr th {\n",
       "        vertical-align: top;\n",
       "    }\n",
       "\n",
       "    .dataframe thead th {\n",
       "        text-align: right;\n",
       "    }\n",
       "</style>\n",
       "<table border=\"1\" class=\"dataframe\">\n",
       "  <thead>\n",
       "    <tr style=\"text-align: right;\">\n",
       "      <th></th>\n",
       "      <th>Actual</th>\n",
       "      <th>Predicted</th>\n",
       "    </tr>\n",
       "  </thead>\n",
       "  <tbody>\n",
       "    <tr>\n",
       "      <th>209</th>\n",
       "      <td>0</td>\n",
       "      <td>0</td>\n",
       "    </tr>\n",
       "    <tr>\n",
       "      <th>280</th>\n",
       "      <td>1</td>\n",
       "      <td>1</td>\n",
       "    </tr>\n",
       "    <tr>\n",
       "      <th>33</th>\n",
       "      <td>0</td>\n",
       "      <td>0</td>\n",
       "    </tr>\n",
       "    <tr>\n",
       "      <th>210</th>\n",
       "      <td>1</td>\n",
       "      <td>1</td>\n",
       "    </tr>\n",
       "    <tr>\n",
       "      <th>93</th>\n",
       "      <td>0</td>\n",
       "      <td>0</td>\n",
       "    </tr>\n",
       "  </tbody>\n",
       "</table>\n",
       "</div>"
      ],
      "text/plain": [
       "     Actual  Predicted\n",
       "209       0          0\n",
       "280       1          1\n",
       "33        0          0\n",
       "210       1          1\n",
       "93        0          0"
      ]
     },
     "execution_count": 36,
     "metadata": {},
     "output_type": "execute_result"
    }
   ],
   "source": [
    "df1.head()"
   ]
  },
  {
   "cell_type": "code",
   "execution_count": 37,
   "id": "acb07189-7b43-4d8c-bdd2-9266324041a8",
   "metadata": {},
   "outputs": [],
   "source": [
    "from sklearn.metrics import confusion_matrix,accuracy_score,precision_score,recall_score"
   ]
  },
  {
   "cell_type": "code",
   "execution_count": 38,
   "id": "73fb410a-98e4-42ed-a015-d98d0b7f7b88",
   "metadata": {},
   "outputs": [
    {
     "name": "stdout",
     "output_type": "stream",
     "text": [
      "[[50  2]\n",
      " [ 7 21]]\n"
     ]
    }
   ],
   "source": [
    "print(confusion_matrix(y_test,y_pred))"
   ]
  },
  {
   "cell_type": "code",
   "execution_count": 39,
   "id": "4b4c84d4-bc91-43b2-bd55-4e7aa1f43e2f",
   "metadata": {},
   "outputs": [
    {
     "name": "stdout",
     "output_type": "stream",
     "text": [
      "0.8875\n"
     ]
    }
   ],
   "source": [
    "print(accuracy_score(y_test,y_pred))"
   ]
  },
  {
   "cell_type": "raw",
   "id": "68b14529-c13c-4b1a-85cd-ad8a5803734b",
   "metadata": {},
   "source": [
    "accuracy=(TP+TN)/(TP+TN+FP+FN)"
   ]
  },
  {
   "cell_type": "code",
   "execution_count": 40,
   "id": "918c6d87-e64b-412f-a2be-e41dfe7c3ea1",
   "metadata": {},
   "outputs": [
    {
     "data": {
      "text/plain": [
       "0.8875"
      ]
     },
     "execution_count": 40,
     "metadata": {},
     "output_type": "execute_result"
    }
   ],
   "source": [
    "(50+21)/(50+2+21+7)"
   ]
  },
  {
   "cell_type": "code",
   "execution_count": 41,
   "id": "a374a944-6b6f-47dc-8fe3-cd5c2aed5e64",
   "metadata": {},
   "outputs": [
    {
     "name": "stdout",
     "output_type": "stream",
     "text": [
      "0.9130434782608695\n"
     ]
    }
   ],
   "source": [
    "print(precision_score(y_test,y_pred))"
   ]
  },
  {
   "cell_type": "code",
   "execution_count": null,
   "id": "7c7bc70a-76fd-4f23-a12f-6c3f99da8433",
   "metadata": {},
   "outputs": [],
   "source": [
    "precision=TP/(TP+FP)"
   ]
  },
  {
   "cell_type": "code",
   "execution_count": 42,
   "id": "850a05e0-7b03-428d-a82e-e14a9d28594e",
   "metadata": {},
   "outputs": [
    {
     "name": "stdout",
     "output_type": "stream",
     "text": [
      "0.75\n"
     ]
    }
   ],
   "source": [
    "print(recall_score(y_test,y_pred))"
   ]
  },
  {
   "cell_type": "code",
   "execution_count": null,
   "id": "579810b4-cd59-40db-81c7-edf5ff1ca1d6",
   "metadata": {},
   "outputs": [],
   "source": [
    "recall=TP/(TP+FN)"
   ]
  }
 ],
 "metadata": {
  "kernelspec": {
   "display_name": "Python 3 (ipykernel)",
   "language": "python",
   "name": "python3"
  },
  "language_info": {
   "codemirror_mode": {
    "name": "ipython",
    "version": 3
   },
   "file_extension": ".py",
   "mimetype": "text/x-python",
   "name": "python",
   "nbconvert_exporter": "python",
   "pygments_lexer": "ipython3",
   "version": "3.11.7"
  }
 },
 "nbformat": 4,
 "nbformat_minor": 5
}
